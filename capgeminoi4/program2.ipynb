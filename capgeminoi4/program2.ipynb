{
 "cells": [
  {
   "cell_type": "code",
   "execution_count": 1,
   "metadata": {},
   "outputs": [
    {
     "name": "stdout",
     "output_type": "stream",
     "text": [
      "My name is Shanmuk Reddy\n"
     ]
    }
   ],
   "source": [
    "def display(name):\n",
    "    print(f'My name is {name}')\n",
    "name=\"Shanmuk Reddy\"\n",
    "display(name)"
   ]
  },
  {
   "cell_type": "code",
   "execution_count": 2,
   "metadata": {},
   "outputs": [
    {
     "name": "stdout",
     "output_type": "stream",
     "text": [
      "2\n"
     ]
    }
   ],
   "source": [
    "def area_of_rectangle(length,width):\n",
    "    return length*width\n",
    "length=int(input('enter the length'))\n",
    "width=int(input('enter the width'))\n",
    "print(area_of_rectangle(length,width))"
   ]
  },
  {
   "cell_type": "code",
   "execution_count": null,
   "metadata": {},
   "outputs": [],
   "source": []
  },
  {
   "cell_type": "code",
   "execution_count": 3,
   "metadata": {},
   "outputs": [
    {
     "name": "stdout",
     "output_type": "stream",
     "text": [
      "the sum is 3\n"
     ]
    }
   ],
   "source": [
    "def display_addition(data):\n",
    "    print(f'the sum is {data}')\n",
    "def addition(a,b):\n",
    "    return a+b\n",
    "def get_input_1():\n",
    "    a=int(input())\n",
    "    b=int(input())\n",
    "    return {a,b}\n",
    "def main():\n",
    "    (a,b)=get_input_1()\n",
    "    add=addition(a,b)\n",
    "    display_addition(add)\n",
    "main()"
   ]
  },
  {
   "cell_type": "code",
   "execution_count": 7,
   "metadata": {},
   "outputs": [
    {
     "name": "stdout",
     "output_type": "stream",
     "text": [
      "The average of four number is 2\n"
     ]
    }
   ],
   "source": [
    "def display_average(data):\n",
    "    print(f'The average of four number is {data}')\n",
    "def sum_of_four_numbers(a,b,c,d):\n",
    "    return (a+b+c+d)\n",
    "def average_of_four_numbers(data):\n",
    "    return data//4\n",
    "def get_input_2():\n",
    "    a=int(input())\n",
    "    b=int(input())\n",
    "    c=int(input())\n",
    "    d=int(input())\n",
    "    return {a,b,c,d}\n",
    "def main():\n",
    "    (a,b,c,d)=get_input_2()\n",
    "    sumi=sum_of_four_numbers(a,b,c,d)\n",
    "    average=average_of_four_numbers(sumi)\n",
    "    display_average(average)\n",
    "main()"
   ]
  },
  {
   "cell_type": "code",
   "execution_count": 5,
   "metadata": {},
   "outputs": [
    {
     "name": "stdout",
     "output_type": "stream",
     "text": [
      "the area is 12\n"
     ]
    }
   ],
   "source": [
    "def display_of_area(area):\n",
    "    print(f'the area is {area}')\n",
    "def get_input():\n",
    "    length=int(input())\n",
    "    width=int(input())\n",
    "    return {length,width}\n",
    "def area_of_rectangle_(length,width):\n",
    "    return length*width\n",
    "def main():\n",
    "    (length,width)=get_input()\n",
    "    area=area_of_rectangle_(length,width)\n",
    "    display_of_area(area)\n",
    "main()"
   ]
  },
  {
   "cell_type": "code",
   "execution_count": 6,
   "metadata": {},
   "outputs": [
    {
     "name": "stdout",
     "output_type": "stream",
     "text": [
      "Hello Welcome to the world\n"
     ]
    }
   ],
   "source": [
    "def greet(data):\n",
    "    print(f'{data}')\n",
    "data=\"Hello Welcome to the world\"\n",
    "greet(data)"
   ]
  }
 ],
 "metadata": {
  "kernelspec": {
   "display_name": "Python 3",
   "language": "python",
   "name": "python3"
  },
  "language_info": {
   "codemirror_mode": {
    "name": "ipython",
    "version": 3
   },
   "file_extension": ".py",
   "mimetype": "text/x-python",
   "name": "python",
   "nbconvert_exporter": "python",
   "pygments_lexer": "ipython3",
   "version": "3.10.0"
  }
 },
 "nbformat": 4,
 "nbformat_minor": 2
}
