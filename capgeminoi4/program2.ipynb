{
 "cells": [
  {
   "cell_type": "code",
   "execution_count": 1,
   "metadata": {},
   "outputs": [
    {
     "name": "stdout",
     "output_type": "stream",
     "text": [
      "My name is Shanmuk Reddy\n"
     ]
    }
   ],
   "source": [
    "def display(name):\n",
    "    print(f'My name is {name}')\n",
    "name=\"Shanmuk Reddy\"\n",
    "display(name)"
   ]
  },
  {
   "cell_type": "code",
   "execution_count": 2,
   "metadata": {},
   "outputs": [
    {
     "name": "stdout",
     "output_type": "stream",
     "text": [
      "2\n"
     ]
    }
   ],
   "source": [
    "def area_of_rectangle(length,width):\n",
    "    return length*width\n",
    "length=int(input('enter the length'))\n",
    "width=int(input('enter the width'))\n",
    "print(area_of_rectangle(length,width))"
   ]
  },
  {
   "cell_type": "code",
   "execution_count": null,
   "metadata": {},
   "outputs": [],
   "source": []
  },
  {
   "cell_type": "code",
   "execution_count": 3,
   "metadata": {},
   "outputs": [
    {
     "name": "stdout",
     "output_type": "stream",
     "text": [
      "the sum is 3\n"
     ]
    }
   ],
   "source": [
    "def display_addition(data):\n",
    "    print(f'the sum is {data}')\n",
    "def addition(a,b):\n",
    "    return a+b\n",
    "def get_input_1():\n",
    "    a=int(input())\n",
    "    b=int(input())\n",
    "    return {a,b}\n",
    "def main():\n",
    "    (a,b)=get_input_1()\n",
    "    add=addition(a,b)\n",
    "    display_addition(add)\n",
    "main()"
   ]
  },
  {
   "cell_type": "code",
   "execution_count": null,
   "metadata": {},
   "outputs": [
    {
     "name": "stdout",
     "output_type": "stream",
     "text": [
      "The average of four number is 2\n"
     ]
    }
   ],
   "source": [
    "def display_average(data):\n",
    "    print(f'The average of four number is {data}') #display the result of the average\n",
    "def sum_of_four_numbers(a,b,c,d):\n",
    "    return (a+b+c+d) # return the sum of four numbers\n",
    "def average_of_four_numbers(data):\n",
    "    return data//4 # display the average of four numbers\n",
    "def get_input_2():\n",
    "    a=int(input())\n",
    "    b=int(input())\n",
    "    c=int(input())\n",
    "    d=int(input())\n",
    "    return {a,b,c,d} #reads the input of four numbers and return \n",
    "def main():\n",
    "    (a,b,c,d)=get_input_2() # get the input of four numbers\n",
    "    sumi=sum_of_four_numbers(a,b,c,d) # get the sum of four numbers\n",
    "    average=average_of_four_numbers(sumi) #get the average of four numbers\n",
    "    display_average(average)#display of the average of four numbers\n",
    "main()"
   ]
  },
  {
   "cell_type": "code",
   "execution_count": 20,
   "metadata": {},
   "outputs": [
    {
     "name": "stdout",
     "output_type": "stream",
     "text": [
      "THE biggest of three numbers:{'a': 3}\n"
     ]
    }
   ],
   "source": [
    "def display_1(data):\n",
    "    print(f'THE biggest of three numbers:{data}')\n",
    "def get_input_4():\n",
    "    a=int(input())\n",
    "    b=int(input())\n",
    "    c=int(input())\n",
    "    if(a>b and a>c):\n",
    "        return {\"a\":a}\n",
    "    elif(b>a and b>c):\n",
    "        return {\"b\":b}\n",
    "    else:\n",
    "        return {\"c\":c}\n",
    "def main():\n",
    "    ans=get_input_4()\n",
    "    display_1(ans)\n",
    "main()"
   ]
  },
  {
   "cell_type": "code",
   "execution_count": 22,
   "metadata": {},
   "outputs": [
    {
     "name": "stdout",
     "output_type": "stream",
     "text": [
      "  3           0 LOAD_CONST               1 (1)\n",
      "              2 STORE_FAST               1 (a)\n",
      "\n",
      "  4           4 LOAD_FAST                0 (x)\n",
      "              6 LOAD_CONST               2 (4)\n",
      "              8 BINARY_ADD\n",
      "             10 LOAD_FAST                1 (a)\n",
      "             12 BUILD_TUPLE              2\n",
      "             14 RETURN_VALUE\n"
     ]
    }
   ],
   "source": [
    "import dis\n",
    "def sample_dis(x):\n",
    "    a=1\n",
    "    return x+4,a\n",
    "dis.dis(sample_dis)"
   ]
  },
  {
   "cell_type": "code",
   "execution_count": 33,
   "metadata": {},
   "outputs": [
    {
     "name": "stdout",
     "output_type": "stream",
     "text": [
      " 15           0 LOAD_GLOBAL              0 (get_input_5)\n",
      "              2 CALL_FUNCTION            0\n",
      "              4 UNPACK_SEQUENCE          2\n",
      "              6 STORE_FAST               0 (a)\n",
      "              8 STORE_FAST               1 (b)\n",
      "\n",
      " 16          10 LOAD_GLOBAL              1 (mutliply_of_two_numbers)\n",
      "             12 LOAD_FAST                0 (a)\n",
      "             14 LOAD_FAST                1 (b)\n",
      "             16 CALL_FUNCTION            2\n",
      "             18 STORE_FAST               2 (ans)\n",
      "\n",
      " 17          20 LOAD_GLOBAL              2 (display)\n",
      "             22 LOAD_FAST                2 (ans)\n",
      "             24 CALL_FUNCTION            1\n",
      "             26 POP_TOP\n",
      "\n",
      " 18          28 LOAD_GLOBAL              3 (for_loop)\n",
      "             30 LOAD_FAST                2 (ans)\n",
      "             32 CALL_FUNCTION            1\n",
      "             34 POP_TOP\n",
      "             36 LOAD_CONST               0 (None)\n",
      "             38 RETURN_VALUE\n",
      "the multiplied number is 10\n",
      "i= 0\n",
      "i= 1\n",
      "i= 2\n",
      "i= 3\n",
      "i= 4\n",
      "i= 5\n",
      "i= 6\n",
      "i= 7\n",
      "i= 8\n",
      "i= 9\n"
     ]
    }
   ],
   "source": [
    "import dis\n",
    "def mutliply_of_two_numbers(a,b):\n",
    "    a=2\n",
    "    return a*b\n",
    "def get_input_5():\n",
    "    a=int(input())\n",
    "    b=int(input())\n",
    "    return {a,b}\n",
    "def for_loop(n):\n",
    "    for i in range(n):\n",
    "        print(\"i=\",i)\n",
    "def display(data):\n",
    "    print(f'the multiplied number is {data}')\n",
    "def main():\n",
    "    (a,b)=get_input_5()\n",
    "    ans=mutliply_of_two_numbers(a,b)\n",
    "    display(ans)\n",
    "    for_loop(ans)\n",
    "dis.dis(main)\n",
    "main()"
   ]
  },
  {
   "cell_type": "code",
   "execution_count": 51,
   "metadata": {},
   "outputs": [
    {
     "name": "stdout",
     "output_type": "stream",
     "text": [
      "True\n",
      "Prime number is:2\n",
      "Prime number is:3\n",
      "Prime number is:5\n",
      "3\n"
     ]
    }
   ],
   "source": [
    "import math\n",
    "def prime_or_not(n):\n",
    "    if n<=1:\n",
    "        return False\n",
    "    for i in range(2,int(n**0.5)+1):\n",
    "        if(n%i==0):\n",
    "            return False\n",
    "    return True\n",
    "def count_no_of_primes(n):\n",
    "    count=0\n",
    "    for i in range(2,n+1):\n",
    "        if(prime_or_not(i)):\n",
    "            print(f'Prime number is:{i}')\n",
    "            count+=1\n",
    "    return count\n",
    "def get_input_7():\n",
    "    n=int(input())\n",
    "    return n\n",
    "def main():\n",
    "    (n)=get_input_7()\n",
    "    print(prime_or_not(n))\n",
    "    print(count_no_of_primes(n))\n",
    "main()"
   ]
  },
  {
   "cell_type": "code",
   "execution_count": 53,
   "metadata": {},
   "outputs": [
    {
     "name": "stdout",
     "output_type": "stream",
     "text": [
      "True\n",
      "Prime number is:2\n",
      "Prime number is:3\n",
      "Prime number is:5\n",
      "3\n"
     ]
    }
   ],
   "source": [
    "import math\n",
    "def prime_or_not(n):\n",
    "    if n<=1:\n",
    "        return False\n",
    "    for i in range(2,int(n**0.5)+1):\n",
    "        if(n%i==0):\n",
    "            return False\n",
    "    return True\n",
    "def count_no_of_primes(n):\n",
    "    count=0\n",
    "    for i in range(2,n+1):\n",
    "        if(prime_or_not(i)):\n",
    "            print(f'Prime number is:{i}')\n",
    "            count+=1\n",
    "    return count\n",
    "def get_input_7():\n",
    "    n=int(input())\n",
    "    return n\n",
    "def main():\n",
    "    (n)=get_input_7()\n",
    "    print(prime_or_not(n))\n",
    "    print(count_no_of_primes(n))\n",
    "main()"
   ]
  },
  {
   "cell_type": "code",
   "execution_count": 60,
   "metadata": {},
   "outputs": [
    {
     "name": "stdout",
     "output_type": "stream",
     "text": [
      "True\n",
      "Prime number is:2\n",
      "Prime number is:3\n",
      "Prime number is:5\n",
      "Prime number is:2\n",
      "Prime number is:3\n",
      "Prime number is:5\n",
      "3\n"
     ]
    },
    {
     "ename": "",
     "evalue": "",
     "output_type": "error",
     "traceback": [
      "\u001b[1;31mThe Kernel crashed while executing code in the current cell or a previous cell. \n",
      "\u001b[1;31mPlease review the code in the cell(s) to identify a possible cause of the failure. \n",
      "\u001b[1;31mClick <a href='https://aka.ms/vscodeJupyterKernelCrash'>here</a> for more info. \n",
      "\u001b[1;31mView Jupyter <a href='command:jupyter.viewOutput'>log</a> for further details."
     ]
    }
   ],
   "source": [
    "import math\n",
    "def prime_or_not(n):\n",
    "    if n<=1:\n",
    "        return False\n",
    "    i=2\n",
    "    while(i<int(n**0.5)+1):\n",
    "        if(n%i==0):\n",
    "            return False\n",
    "        i+=1\n",
    "    return True\n",
    "def count_no_of_primes(n):\n",
    "    count=0\n",
    "    i=2\n",
    "    while(i<n+1):\n",
    "        if(prime_or_not(i)):\n",
    "            print(f'Prime number is:{i}')\n",
    "            count+=1\n",
    "        i+=1\n",
    "    return count\n",
    "def get_input_7():\n",
    "    n=int(input())\n",
    "    start=int(input())\n",
    "    end=int(input())\n",
    "    return n,start,end\n",
    "def range_of_primes(start,end):\n",
    "    if(start>end):\n",
    "        return \"Enter the valid numbers\"\n",
    "    for i in range(start,end+1):\n",
    "        if(prime_or_not(i)):\n",
    "            print(f'Prime number is:{i}')\n",
    "def main():\n",
    "    n,start,end=get_input_7()\n",
    "    print(prime_or_not(n))\n",
    "    range_of_primes(start,end)\n",
    "    print(count_no_of_primes(n))\n",
    "main()"
   ]
  },
  {
   "cell_type": "code",
   "execution_count": null,
   "metadata": {},
   "outputs": [
    {
     "name": "stdout",
     "output_type": "stream",
     "text": [
      "The biggest of three numbers:3\n"
     ]
    }
   ],
   "source": [
    "def display(data):\n",
    "    print(f'The biggest of three numbers:{data}')\n",
    "def get_input_3():\n",
    "    a=int(input())\n",
    "    b=int(input())\n",
    "    c=int(input())\n",
    "    return {a,b,c}\n",
    "def biggest_number(a,b,c):\n",
    "    if(a>b and a>c):\n",
    "        return a\n",
    "    elif(b>a and b>c):\n",
    "        return b\n",
    "    else:\n",
    "        return c\n",
    "def main():\n",
    "    (a,b,c)=get_input_3()\n",
    "    data=biggest_number(a,b,c)\n",
    "    display(data)\n",
    "main()\n",
    "    "
   ]
  },
  {
   "cell_type": "code",
   "execution_count": 5,
   "metadata": {},
   "outputs": [
    {
     "name": "stdout",
     "output_type": "stream",
     "text": [
      "the area is 12\n"
     ]
    }
   ],
   "source": [
    "def display_of_area(area):\n",
    "    print(f'the area is {area}')\n",
    "def get_input():\n",
    "    length=int(input())\n",
    "    width=int(input())\n",
    "    return {length,width}\n",
    "def area_of_rectangle_(length,width):\n",
    "    return length*width\n",
    "def main():\n",
    "    (length,width)=get_input()\n",
    "    area=area_of_rectangle_(length,width)\n",
    "    display_of_area(area)\n",
    "main()"
   ]
  },
  {
   "cell_type": "code",
   "execution_count": 6,
   "metadata": {},
   "outputs": [
    {
     "name": "stdout",
     "output_type": "stream",
     "text": [
      "Hello Welcome to the world\n"
     ]
    }
   ],
   "source": [
    "def greet(data):\n",
    "    print(f'{data}')\n",
    "data=\"Hello Welcome to the world\"\n",
    "greet(data)"
   ]
  },
  {
   "cell_type": "code",
   "execution_count": null,
   "metadata": {},
   "outputs": [],
   "source": []
  }
 ],
 "metadata": {
  "kernelspec": {
   "display_name": "Python 3",
   "language": "python",
   "name": "python3"
  },
  "language_info": {
   "codemirror_mode": {
    "name": "ipython",
    "version": 3
   },
   "file_extension": ".py",
   "mimetype": "text/x-python",
   "name": "python",
   "nbconvert_exporter": "python",
   "pygments_lexer": "ipython3",
   "version": "3.10.0"
  }
 },
 "nbformat": 4,
 "nbformat_minor": 2
}
